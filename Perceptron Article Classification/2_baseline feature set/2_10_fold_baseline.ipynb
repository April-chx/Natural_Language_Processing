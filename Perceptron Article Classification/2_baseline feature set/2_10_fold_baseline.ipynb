{
 "cells": [
  {
   "cell_type": "code",
   "execution_count": null,
   "metadata": {
    "collapsed": true
   },
   "outputs": [],
   "source": [
    "import pandas as pd\n",
    "import numpy as np\n",
    "from sklearn import metrics\n",
    "from sklearn.metrics import accuracy_score\n",
    "from sklearn.metrics import precision_recall_fscore_support"
   ]
  },
  {
   "cell_type": "code",
   "execution_count": null,
   "metadata": {
    "collapsed": true
   },
   "outputs": [],
   "source": [
    "data = pd.read_csv('baseline_training_data.csv')\n",
    "data[:5]"
   ]
  },
  {
   "cell_type": "code",
   "execution_count": null,
   "metadata": {
    "collapsed": true
   },
   "outputs": [],
   "source": [
    "labels = sorted(list(set(data['label_x'])))\n",
    "labels"
   ]
  },
  {
   "cell_type": "code",
   "execution_count": null,
   "metadata": {
    "collapsed": true
   },
   "outputs": [],
   "source": [
    "fold = int(0.1*data.shape[0])\n",
    "\n",
    "for num in range(10):\n",
    "    w_org = np.array([np.zeros(data.shape[1]-2) for label in labels])\n",
    "    w_avg = w_org.copy()\n",
    "    \n",
    "    if num == 0:\n",
    "        train_data = data[fold:data.shape[0]]\n",
    "    elif num == 9:\n",
    "        train_data = data[:fold*9]\n",
    "    else:\n",
    "        train_data = pd.DataFrame(np.concatenate((data[:fold*num], data[fold*(num+1):]), axis=0))\n",
    "            \n",
    "    N_times = 5\n",
    "    T_len = train_data.shape[0]\n",
    "    step = N_times * T_len\n",
    "\n",
    "    for t in range(N_times):\n",
    "        y_true = []\n",
    "        y_pred = []\n",
    "        for train in train_data.index:\n",
    "\n",
    "            row_data = train_data[train_data.index.isin([train])].values[0]\n",
    "\n",
    "            w_list = [row_data[2:].dot(w.T) for w in w_org]\n",
    "\n",
    "            pred_label = w_list.index(max(w_list))\n",
    "            true_label = labels.index(row_data[1])\n",
    "\n",
    "            if pred_label != true_label:\n",
    "\n",
    "                w_org[true_label] = w_org[true_label] + row_data[2:]\n",
    "                w_org[pred_label] = w_org[pred_label] - row_data[2:]\n",
    "\n",
    "                w_avg[true_label] = w_avg[true_label] + (step/(N_times * T_len)) * row_data[2:]\n",
    "                w_avg[pred_label] = w_avg[pred_label] - (step/(N_times * T_len)) * row_data[2:]\n",
    "\n",
    "            step = step -1\n",
    "\n",
    "    if num == 9:\n",
    "        pred_data=data[(fold*num):]\n",
    "    else:\n",
    "        pred_data=data[(fold*num):(fold*(num+1))]\n",
    "    \n",
    "    y_true = []\n",
    "    y_pred = []\n",
    "    for pred in pred_data.index:\n",
    "\n",
    "        row_data = pred_data[pred_data.index.isin([pred])].values[0]\n",
    "\n",
    "        w_list = [row_data[2:].dot(w.T) for w in w_avg]\n",
    "\n",
    "        pred_label = w_list.index(max(w_list))\n",
    "\n",
    "        true_label = labels.index(row_data[1])\n",
    "\n",
    "        y_true.append(labels[true_label])\n",
    "        y_pred.append(labels[pred_label])\n",
    "    clas_report = metrics.classification_report(y_true, y_pred)\n",
    "    print(\"Classification Report(Set %s):\\n\" % (num+1) + clas_report)\n",
    "    print(\"Micro-average: \", precision_recall_fscore_support(y_true, y_pred, average='micro'))\n",
    "    print(\"Macro-average: \", precision_recall_fscore_support(y_true, y_pred, average='macro'))\n",
    "    print(\"Accurancy: %s\" % accuracy_score(y_true, y_pred)+'\\n')\n",
    "\n",
    "    with open('results/10_fold_report_unigram_n.csv', 'a+') as csv_file:\n",
    "        csv_file.write(\"Classification Report(Set %s):\\n\" % (num+1)+clas_report+'\\n')\n",
    "        csv_file.write(\"Micro-average: \"+str(precision_recall_fscore_support(y_true, y_pred, average='micro'))+'\\n')\n",
    "        csv_file.write(\"Macro-average: \"+str(precision_recall_fscore_support(y_true, y_pred, average='macro'))+'\\n')\n",
    "        csv_file.write(\"Accurancy: \"+str(accuracy_score(y_true, y_pred))+'\\n\\n')"
   ]
  }
 ],
 "metadata": {
  "kernelspec": {
   "display_name": "Python 3",
   "language": "python",
   "name": "python3"
  },
  "language_info": {
   "codemirror_mode": {
    "name": "ipython",
    "version": 3
   },
   "file_extension": ".py",
   "mimetype": "text/x-python",
   "name": "python",
   "nbconvert_exporter": "python",
   "pygments_lexer": "ipython3",
   "version": "3.6.0"
  }
 },
 "nbformat": 4,
 "nbformat_minor": 2
}
